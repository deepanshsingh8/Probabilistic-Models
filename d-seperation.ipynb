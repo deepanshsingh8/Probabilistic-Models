{
 "cells": [
  {
   "cell_type": "markdown",
   "metadata": {},
   "source": [
    "# Task-1 : D-seperation Test"
   ]
  },
  {
   "cell_type": "code",
   "execution_count": 1,
   "metadata": {},
   "outputs": [],
   "source": [
    "from copy import deepcopy"
   ]
  },
  {
   "cell_type": "markdown",
   "metadata": {},
   "source": [
    "Graphs used to test the algorithm:"
   ]
  },
  {
   "cell_type": "code",
   "execution_count": 2,
   "metadata": {},
   "outputs": [],
   "source": [
    "\n",
    "graph = { \n",
    "        'BC':['Mass','AD','MC','SkinRetract','Nippledischarge','Metastasis'],\n",
    "        'Mass':['Size','Shape','Margin'],\n",
    "        'AD':['Fibrtissuedev'],\n",
    "        'MC':[],\n",
    "        'SkinRetract':[],\n",
    "        'Nippledischarge':[],\n",
    "        'Metastasis':['Lymphnodes'],\n",
    "        'Size':[],\n",
    "        'Shape':[],\n",
    "        'Margin':[],\n",
    "        'Fibrtissuedev':['Skinretract','Nippledischarge','Spiculation'],\n",
    "        'Lymphnodes':[],\n",
    "        'Breastdensity':['Mass'],\n",
    "        'Age':['BC'],\n",
    "        'Location':['BC'],\n",
    "        'Spiculation':['Margin']\n",
    "        }   \n",
    "\n",
    "#quiz Question\n",
    "g= {\n",
    "    'A':['C'],\n",
    "    'B':['C','D'],\n",
    "    'C':['F','E'],\n",
    "    'D':['E'],\n",
    "    'E':[],\n",
    "    'F':[]\n",
    "    }\n",
    "\n",
    "#question from slides\n",
    "g__ = {\n",
    "      'A':['T'],\n",
    "      'T':['P'],\n",
    "      'P':['X','D'],\n",
    "      'C':['P'],\n",
    "      'S':['B','C'],\n",
    "      'B':['D'],\n",
    "      'X':[],\n",
    "      'D':[]\n",
    "      }\n",
    "\n",
    "#random question\n",
    "g_ = {\n",
    "      'U': ['W'],\n",
    "      'V':['W','X','T'],\n",
    "      'W':['Y'],\n",
    "      'X':['Y'],\n",
    "      'T':['Z'],\n",
    "      'Z':[],\n",
    "      'Y':[]\n",
    "      }\n"
   ]
  },
  {
   "cell_type": "markdown",
   "metadata": {},
   "source": [
    "d_seperation(Graph, X, Y, Z):"
   ]
  },
  {
   "cell_type": "code",
   "execution_count": 3,
   "metadata": {},
   "outputs": [],
   "source": [
    "def d_seperation(G,X,Y,Z):\n",
    "    union = \" \".join(X) #create a single string for better searching, typically X U Y U Z\n",
    "    union +=\" \"+\" \".join(Y)\n",
    "    union +=\" \"+\" \".join(Z)\n",
    "    #print(X,Y,Z,union)\n",
    "    #using refine graph to apply the algorithm required by the assignment to get a refined graph\n",
    "    temp_dict=refine_graph(G,X,Y,Z,union) #this is a recursive function which removes all the leaf nodes and the node that is not required.\n",
    "    #creating a undirected graph after removing the nodes and the branches..\n",
    "    new_dict = {}\n",
    "    for key,value in temp_dict.items(): \n",
    "        for val in value: \n",
    "            if key in new_dict: #if key is there in  the dictionary, append the value, i.e. add an edge\n",
    "                new_dict[key].append(val)\n",
    "            else:\n",
    "                new_dict[key] = [val] #create a new key and add the vale, i.e. edge\n",
    "            \n",
    "            if val in new_dict:              \n",
    "                new_dict[val].append(key) #create the edge back so that its an undirected graph\n",
    "            else:\n",
    "                new_dict[val] = [key] #create the new key and add the edge.\n",
    "\n",
    "    #new_dict is an undirect graph in place of the original graph\n",
    "    path = []\n",
    "    #print(x_list,y_list)\n",
    "    for x in X:\n",
    "        for y in Y:\n",
    "            path += find_connection(new_dict,x,y) #recursive path finding algorithm\n",
    "    print(path)\n",
    "    #print(path)\n",
    "    if path==[]: #if no paths are found then that means that X and Y are d-seperated\n",
    "        return True\n",
    "    else: #otherwise not\n",
    "        return False"
   ]
  },
  {
   "cell_type": "markdown",
   "metadata": {},
   "source": [
    "refine_graph(Graph, X, Y, Z, union)"
   ]
  },
  {
   "cell_type": "code",
   "execution_count": 4,
   "metadata": {},
   "outputs": [],
   "source": [
    "def refine_graph(temp_dict,X,Y,Z,union):\n",
    "\n",
    "    #union = str(X)+'-'+str(Y)+'-'+str(Z) #create a single string for better searching, typically X U Y U Z\n",
    "    G=deepcopy(temp_dict) #copy the dictionary as the key values are being changed at each iteration\n",
    "    for key in G.keys():\n",
    "        if len(G[key])==0:\n",
    "            if key not in union: # this means node is not in X U Y U Z\n",
    "                temp_dict.pop(key,None) #remove key as it is a leaf nodek\n",
    "                for node in temp_dict.keys():\n",
    "                    try:\n",
    "                        temp_dict[node].remove(key) #remove the existence of the leaf node from the graph\n",
    "                    except ValueError:\n",
    "                        pass     \n",
    "    G=deepcopy(temp_dict)    #copy the dictionary again\n",
    "    for key in G.keys(): \n",
    "        if len(G[key])==0: #check and see if there are any new leaf nodes created due to removal of leaf nodes\n",
    "            if key not in union: #there are new leaf nodes and the node is not in X U Y U Z\n",
    "                temp_dict=refine_graph(temp_dict,X,Y,Z,union) #recursive call \n",
    "        else:\n",
    "            continue   \n",
    "    #now the second step of the algorithm, remove the outgoing branches of node that is in Z. \n",
    "    for key in temp_dict.keys():\n",
    "        if key in Z: #if the node is in Z, remove the branches\n",
    "            temp_dict[key] = [] #replace the list with empty list to remove any outgoing branches from the key\n",
    "    return temp_dict"
   ]
  },
  {
   "cell_type": "markdown",
   "metadata": {},
   "source": [
    "To find the path between the start and the end node, find_connection(graph, X, Y) is used"
   ]
  },
  {
   "cell_type": "code",
   "execution_count": 5,
   "metadata": {},
   "outputs": [],
   "source": [
    "def find_connection(g, X, Y, path=[]):\n",
    "        path = path + [X] #add the paths together\n",
    "        if X == Y: #base function that if start node==end node\n",
    "            return path\n",
    "        if X not in g: #if Start node is not in the graph\n",
    "            return [] #return empty list\n",
    "        for node in g[X]: #for all nodes in the values\n",
    "            if node not in path:\n",
    "                newpath = find_connection(g, node, Y, path)\n",
    "                if newpath: \n",
    "                    return newpath\n",
    "        return [] #return empty list\n"
   ]
  },
  {
   "cell_type": "markdown",
   "metadata": {},
   "source": [
    "Few Test cases designed to test the algorithm: "
   ]
  },
  {
   "cell_type": "code",
   "execution_count": 6,
   "metadata": {},
   "outputs": [
    {
     "name": "stdout",
     "output_type": "stream",
     "text": [
      "['T', 'C'] ['B'] ['S', 'X'] T C B S X\n",
      "[]\n",
      "True\n"
     ]
    }
   ],
   "source": [
    "Test_1 = d_seperation(g__, ['T','C'], ['B'], ['S','X'])\n",
    "print(Test_1)"
   ]
  },
  {
   "cell_type": "code",
   "execution_count": 7,
   "metadata": {},
   "outputs": [
    {
     "name": "stdout",
     "output_type": "stream",
     "text": [
      "['A', 'S'] ['D', 'X'] ['B', 'P'] A S D X B P\n",
      "[]\n",
      "True\n"
     ]
    }
   ],
   "source": [
    "Test_2 = d_seperation(g__, ['A','S'], ['D','X'], ['B','P'])\n",
    "print(Test_2)"
   ]
  },
  {
   "cell_type": "code",
   "execution_count": 8,
   "metadata": {},
   "outputs": [
    {
     "name": "stdout",
     "output_type": "stream",
     "text": [
      "['A'] ['B'] [] A B \n",
      "[]\n",
      "True\n"
     ]
    }
   ],
   "source": [
    "Test_3 = d_seperation(g, ['A'], ['B'], [])\n",
    "print(Test_3)"
   ]
  },
  {
   "cell_type": "code",
   "execution_count": 9,
   "metadata": {},
   "outputs": [
    {
     "name": "stdout",
     "output_type": "stream",
     "text": [
      "['A'] ['D'] ['C'] A D C\n",
      "[]\n",
      "True\n"
     ]
    }
   ],
   "source": [
    "Test_4 = d_seperation(g, ['A'], ['D'], ['C'])\n",
    "print(Test_4)"
   ]
  },
  {
   "cell_type": "code",
   "execution_count": 10,
   "metadata": {},
   "outputs": [
    {
     "name": "stdout",
     "output_type": "stream",
     "text": [
      "['A'] ['D'] ['C'] A D C\n",
      "[]\n",
      "True\n"
     ]
    }
   ],
   "source": [
    "Test = d_seperation(g, ['A'], ['D'], ['C'])\n",
    "print(Test)"
   ]
  },
  {
   "cell_type": "code",
   "execution_count": 11,
   "metadata": {},
   "outputs": [
    {
     "name": "stdout",
     "output_type": "stream",
     "text": [
      "['V'] ['Z'] [''] V Z \n",
      "['V', 'T', 'Z']\n",
      "False\n"
     ]
    }
   ],
   "source": [
    "\n",
    "Test = d_seperation(g_, ['V'], ['Z'], [''])\n",
    "print(Test)\n"
   ]
  },
  {
   "cell_type": "code",
   "execution_count": 12,
   "metadata": {},
   "outputs": [
    {
     "name": "stdout",
     "output_type": "stream",
     "text": [
      "['V'] ['Z'] ['T'] V Z T\n",
      "[]\n",
      "True\n"
     ]
    }
   ],
   "source": [
    "\n",
    "Test = d_seperation(g_, ['V'], ['Z'], ['T'])\n",
    "print(Test)\n"
   ]
  },
  {
   "cell_type": "code",
   "execution_count": 13,
   "metadata": {},
   "outputs": [
    {
     "name": "stdout",
     "output_type": "stream",
     "text": [
      "['U'] ['V'] [''] U V \n",
      "[]\n",
      "True\n"
     ]
    }
   ],
   "source": [
    "\n",
    "Test = d_seperation(g_, ['U'], ['V'], [''])\n",
    "print(Test)\n"
   ]
  },
  {
   "cell_type": "code",
   "execution_count": 14,
   "metadata": {},
   "outputs": [
    {
     "name": "stdout",
     "output_type": "stream",
     "text": [
      "['U'] ['V'] ['W'] U V W\n",
      "[]\n",
      "True\n"
     ]
    }
   ],
   "source": [
    "\n",
    "Test = d_seperation(g_, ['U'], ['V'], ['W'])\n",
    "print(Test)"
   ]
  },
  {
   "cell_type": "code",
   "execution_count": 15,
   "metadata": {},
   "outputs": [
    {
     "name": "stdout",
     "output_type": "stream",
     "text": [
      "['U'] ['V'] ['X'] U V X\n",
      "[]\n",
      "True\n"
     ]
    }
   ],
   "source": [
    "\n",
    "Test = d_seperation(g_, ['U'], ['V'], ['X'])\n",
    "print(Test)\n"
   ]
  },
  {
   "cell_type": "code",
   "execution_count": null,
   "metadata": {},
   "outputs": [],
   "source": []
  }
 ],
 "metadata": {
  "kernelspec": {
   "display_name": "Python 3",
   "language": "python",
   "name": "python3"
  },
  "language_info": {
   "codemirror_mode": {
    "name": "ipython",
    "version": 3
   },
   "file_extension": ".py",
   "mimetype": "text/x-python",
   "name": "python",
   "nbconvert_exporter": "python",
   "pygments_lexer": "ipython3",
   "version": "3.6.5"
  }
 },
 "nbformat": 4,
 "nbformat_minor": 2
}
